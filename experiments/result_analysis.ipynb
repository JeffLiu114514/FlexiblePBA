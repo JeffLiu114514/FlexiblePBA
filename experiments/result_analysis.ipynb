{
 "cells": [
  {
   "cell_type": "code",
   "execution_count": 8,
   "metadata": {},
   "outputs": [],
   "source": [
    "import json\n",
    "\n",
    "r0s_8level = json.load(open(\"./all_tests/retention0s.csv_8levels_basics.json\", 'r'))\n",
    "r0s_16level = json.load(open(\"./all_tests/retention0s.csv_16levels_basics.json\", 'r'))\n",
    "r1s_8level = json.load(open(\"./all_tests/retention1s.csv_8levels_basics.json\", 'r'))\n",
    "r1s_16level = json.load(open(\"./all_tests/retention1s.csv_16levels_basics.json\", 'r'))\n",
    "r1s2_8level = json.load(open(\"./all_tests/retention1s2.csv_8levels_basics.json\", 'r'))\n",
    "r1s2_16level = json.load(open(\"./all_tests/retention1s2.csv_16levels_basics.json\", 'r'))\n",
    "\n",
    "def calculate_improvement(filename):\n",
    "    content = json.load(open(\"./all_tests/\"+filename+\".json\", 'r'))\n",
    "    print(\"-----------------------\")\n",
    "    print(\"Results for\", filename)\n",
    "    print(\"Flexible refine's improvement of raw BER on Original PBA:\", (content['dala'][0] - (content['dala+flexible_refine'][0]))/(content['dala'][0])*100, \"%\")\n",
    "    print(\"FPBA's improvement of raw BER on Original PBA:\", (content['dala'][0] - (content['flexible_dala'][0]))/(content['dala'][0])*100, \"%\")\n",
    "    print(\"PBA-graph's improvement of raw BER on Original PBA:\", (content['dala'][0] - (content['dala_graph'][0]))/(content['dala'][0])*100, \"%\")\n",
    "    best = min(content, key=lambda k: content[k][0])\n",
    "    print(\"Best raw BER performance is by:\", best, \"with improvement of\", (content['dala'][0] - (content[best][0]))/(content['dala'][0])*100, \"%\")\n",
    "    \n",
    "    print(\"Flexible refine's improvement of ECC on Original PBA:\", (content['dala'][1] - (content['dala+flexible_refine'][1]))/(content['dala'][1]-1)*100, \"%\")\n",
    "    print(\"FPBA's improvement of ECC on Original PBA:\", (content['dala'][1] - (content['flexible_dala'][1]))/(content['dala'][1]-1)*100, \"%\")\n",
    "    print(\"PBA-graph's improvement of ECC on Original PBA:\", (content['dala'][1] - (content['dala_graph'][1]))/(content['dala'][1]-1)*100, \"%\")\n",
    "    best = min(content, key=lambda k: content[k][1])\n",
    "    print(\"Best ECC performance is by:\", best, \"with improvement of\", (content['dala'][1] - (content[best][1]))/(content['dala'][1]-1)*100, \"%\")\n"
   ]
  },
  {
   "cell_type": "code",
   "execution_count": 10,
   "metadata": {},
   "outputs": [
    {
     "name": "stdout",
     "output_type": "stream",
     "text": [
      "-----------------------\n",
      "Results for retention0s.csv_8levels_basics\n",
      "Flexible refine's improvement of raw BER on Original PBA: 0.0 %\n",
      "FPBA's improvement of raw BER on Original PBA: 0.0 %\n",
      "PBA-graph's improvement of raw BER on Original PBA: 79.7752808988764 %\n",
      "Best raw BER performance is by: dala_graph with improvement of 79.7752808988764 %\n",
      "Flexible refine's improvement of ECC on Original PBA: 0.0 %\n",
      "FPBA's improvement of ECC on Original PBA: 0.0 %\n",
      "PBA-graph's improvement of ECC on Original PBA: 35.77029031574479 %\n",
      "Best ECC performance is by: dala_graph with improvement of 35.77029031574479 %\n",
      "-----------------------\n",
      "Results for retention1s.csv_8levels_basics\n",
      "Flexible refine's improvement of raw BER on Original PBA: 0.0 %\n",
      "FPBA's improvement of raw BER on Original PBA: 7.847533632286999 %\n",
      "PBA-graph's improvement of raw BER on Original PBA: 23.99103139013452 %\n",
      "Best raw BER performance is by: dala_graph with improvement of 23.99103139013452 %\n",
      "Flexible refine's improvement of ECC on Original PBA: 0.0 %\n",
      "FPBA's improvement of ECC on Original PBA: 0.0 %\n",
      "PBA-graph's improvement of ECC on Original PBA: 11.37642205275664 %\n",
      "Best ECC performance is by: dala_graph with improvement of 11.37642205275664 %\n",
      "-----------------------\n",
      "Results for retention1s2.csv_8levels_basics\n",
      "Flexible refine's improvement of raw BER on Original PBA: 8.333333333333329 %\n",
      "FPBA's improvement of raw BER on Original PBA: 4.166666666666653 %\n",
      "PBA-graph's improvement of raw BER on Original PBA: 29.166666666666664 %\n",
      "Best raw BER performance is by: dala_graph+flexible_refine with improvement of 33.33333333333333 %\n",
      "Flexible refine's improvement of ECC on Original PBA: 0.0 %\n",
      "FPBA's improvement of ECC on Original PBA: 0.0 %\n",
      "PBA-graph's improvement of ECC on Original PBA: 14.743589743589796 %\n",
      "Best ECC performance is by: dala_graph+flexible_refine with improvement of 16.154452324664963 %\n"
     ]
    }
   ],
   "source": [
    "calculate_improvement(\"retention0s.csv_8levels_basics\")\n",
    "calculate_improvement(\"retention1s.csv_8levels_basics\")\n",
    "calculate_improvement(\"retention1s2.csv_8levels_basics\")"
   ]
  },
  {
   "cell_type": "code",
   "execution_count": 11,
   "metadata": {},
   "outputs": [
    {
     "name": "stdout",
     "output_type": "stream",
     "text": [
      "-----------------------\n",
      "Results for retention0s.csv_16levels_basics\n",
      "Flexible refine's improvement of raw BER on Original PBA: 2.0680147058823457 %\n",
      "FPBA's improvement of raw BER on Original PBA: -13.304227941176485 %\n",
      "PBA-graph's improvement of raw BER on Original PBA: 4.136029411764704 %\n",
      "Best raw BER performance is by: dala_graph+flexible_refine with improvement of 6.204044117647049 %\n",
      "Flexible refine's improvement of ECC on Original PBA: 0.0 %\n",
      "FPBA's improvement of ECC on Original PBA: 0.0 %\n",
      "PBA-graph's improvement of ECC on Original PBA: 3.5263117104549173 %\n",
      "Best ECC performance is by: dala_graph with improvement of 3.5263117104549173 %\n",
      "-----------------------\n",
      "Results for retention1s.csv_16levels_basics\n",
      "Flexible refine's improvement of raw BER on Original PBA: 2.681858019281332 %\n",
      "FPBA's improvement of raw BER on Original PBA: -0.4031551270814965 %\n",
      "PBA-graph's improvement of raw BER on Original PBA: 1.2445223488168324 %\n",
      "Best raw BER performance is by: dala_graph+flexible_refine with improvement of 4.601226993865038 %\n",
      "Flexible refine's improvement of ECC on Original PBA: 0.0 %\n",
      "FPBA's improvement of ECC on Original PBA: 0.0 %\n",
      "PBA-graph's improvement of ECC on Original PBA: 1.4409221902017872 %\n",
      "Best ECC performance is by: dala_graph+flexible_refine with improvement of 3.8204393505253202 %\n",
      "-----------------------\n",
      "Results for retention1s2.csv_16levels_basics\n",
      "Flexible refine's improvement of raw BER on Original PBA: 0.15690376569034759 %\n",
      "FPBA's improvement of raw BER on Original PBA: -9.92852161785218 %\n",
      "PBA-graph's improvement of raw BER on Original PBA: 3.138075313807521 %\n",
      "Best raw BER performance is by: dala_graph+flexible_refine with improvement of 3.294979079497906 %\n",
      "Flexible refine's improvement of ECC on Original PBA: 0.0 %\n",
      "FPBA's improvement of ECC on Original PBA: 0.0 %\n",
      "PBA-graph's improvement of ECC on Original PBA: 2.1396763332247315 %\n",
      "Best ECC performance is by: dala_graph+flexible_refine with improvement of 2.4258176304960104 %\n"
     ]
    }
   ],
   "source": [
    "calculate_improvement(\"retention0s.csv_16levels_basics\")\n",
    "calculate_improvement(\"retention1s.csv_16levels_basics\")\n",
    "calculate_improvement(\"retention1s2.csv_16levels_basics\")"
   ]
  }
 ],
 "metadata": {
  "kernelspec": {
   "display_name": "fpba",
   "language": "python",
   "name": "python3"
  },
  "language_info": {
   "codemirror_mode": {
    "name": "ipython",
    "version": 3
   },
   "file_extension": ".py",
   "mimetype": "text/x-python",
   "name": "python",
   "nbconvert_exporter": "python",
   "pygments_lexer": "ipython3",
   "version": "3.10.14"
  }
 },
 "nbformat": 4,
 "nbformat_minor": 2
}
